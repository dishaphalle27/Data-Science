{
 "cells": [
  {
   "cell_type": "code",
   "execution_count": 5,
   "id": "0cb49ff1",
   "metadata": {},
   "outputs": [],
   "source": [
    "import pandas as pd\n",
    "import re\n",
    "from nltk.corpus import stopwords\n",
    "from nltk.tokenize import word_tokenize\n",
    "from nltk.stem import PorterStemmer\n",
    "from sklearn.feature_extraction.text import TfidfVectorizer"
   ]
  },
  {
   "cell_type": "markdown",
   "id": "5403dd4e",
   "metadata": {},
   "source": [
    "# Data Exploration and Preprocessing"
   ]
  },
  {
   "cell_type": "code",
   "execution_count": 2,
   "id": "ad68d309",
   "metadata": {},
   "outputs": [
    {
     "data": {
      "text/html": [
       "<div>\n",
       "<style scoped>\n",
       "    .dataframe tbody tr th:only-of-type {\n",
       "        vertical-align: middle;\n",
       "    }\n",
       "\n",
       "    .dataframe tbody tr th {\n",
       "        vertical-align: top;\n",
       "    }\n",
       "\n",
       "    .dataframe thead th {\n",
       "        text-align: right;\n",
       "    }\n",
       "</style>\n",
       "<table border=\"1\" class=\"dataframe\">\n",
       "  <thead>\n",
       "    <tr style=\"text-align: right;\">\n",
       "      <th></th>\n",
       "      <th>Unnamed: 0</th>\n",
       "      <th>Data</th>\n",
       "      <th>Labels</th>\n",
       "    </tr>\n",
       "  </thead>\n",
       "  <tbody>\n",
       "    <tr>\n",
       "      <th>0</th>\n",
       "      <td>0</td>\n",
       "      <td>Xref: cantaloupe.srv.cs.cmu.edu alt.atheism:49...</td>\n",
       "      <td>alt.atheism</td>\n",
       "    </tr>\n",
       "    <tr>\n",
       "      <th>1</th>\n",
       "      <td>1</td>\n",
       "      <td>Xref: cantaloupe.srv.cs.cmu.edu alt.atheism:51...</td>\n",
       "      <td>alt.atheism</td>\n",
       "    </tr>\n",
       "    <tr>\n",
       "      <th>2</th>\n",
       "      <td>2</td>\n",
       "      <td>Newsgroups: alt.atheism\\nPath: cantaloupe.srv....</td>\n",
       "      <td>alt.atheism</td>\n",
       "    </tr>\n",
       "    <tr>\n",
       "      <th>3</th>\n",
       "      <td>3</td>\n",
       "      <td>Xref: cantaloupe.srv.cs.cmu.edu alt.atheism:51...</td>\n",
       "      <td>alt.atheism</td>\n",
       "    </tr>\n",
       "    <tr>\n",
       "      <th>4</th>\n",
       "      <td>4</td>\n",
       "      <td>Xref: cantaloupe.srv.cs.cmu.edu alt.atheism:51...</td>\n",
       "      <td>alt.atheism</td>\n",
       "    </tr>\n",
       "  </tbody>\n",
       "</table>\n",
       "</div>"
      ],
      "text/plain": [
       "   Unnamed: 0                                               Data       Labels\n",
       "0           0  Xref: cantaloupe.srv.cs.cmu.edu alt.atheism:49...  alt.atheism\n",
       "1           1  Xref: cantaloupe.srv.cs.cmu.edu alt.atheism:51...  alt.atheism\n",
       "2           2  Newsgroups: alt.atheism\\nPath: cantaloupe.srv....  alt.atheism\n",
       "3           3  Xref: cantaloupe.srv.cs.cmu.edu alt.atheism:51...  alt.atheism\n",
       "4           4  Xref: cantaloupe.srv.cs.cmu.edu alt.atheism:51...  alt.atheism"
      ]
     },
     "execution_count": 2,
     "metadata": {},
     "output_type": "execute_result"
    }
   ],
   "source": [
    "data=pd.read_csv(r\"C:\\Users\\disha\\Downloads\\Naive Bayes and Text Mining\\Naive Bayes and Text Mining\\blogs_categories.csv\")\n",
    "data.head()"
   ]
  },
  {
   "cell_type": "code",
   "execution_count": 3,
   "id": "9f81218a",
   "metadata": {},
   "outputs": [
    {
     "name": "stdout",
     "output_type": "stream",
     "text": [
      "<class 'pandas.core.frame.DataFrame'>\n",
      "RangeIndex: 19997 entries, 0 to 19996\n",
      "Data columns (total 3 columns):\n",
      " #   Column      Non-Null Count  Dtype \n",
      "---  ------      --------------  ----- \n",
      " 0   Unnamed: 0  19997 non-null  int64 \n",
      " 1   Data        19997 non-null  object\n",
      " 2   Labels      19997 non-null  object\n",
      "dtypes: int64(1), object(2)\n",
      "memory usage: 468.8+ KB\n"
     ]
    }
   ],
   "source": [
    "data.info()"
   ]
  },
  {
   "cell_type": "code",
   "execution_count": 4,
   "id": "93868b89",
   "metadata": {},
   "outputs": [
    {
     "data": {
      "text/plain": [
       "Unnamed: 0    0\n",
       "Data          0\n",
       "Labels        0\n",
       "dtype: int64"
      ]
     },
     "execution_count": 4,
     "metadata": {},
     "output_type": "execute_result"
    }
   ],
   "source": [
    "data.isnull().sum()"
   ]
  },
  {
   "cell_type": "code",
   "execution_count": 7,
   "id": "9e02baa7",
   "metadata": {},
   "outputs": [
    {
     "name": "stdout",
     "output_type": "stream",
     "text": [
      "   Unnamed: 0                                               Data       Labels  \\\n",
      "0           0  Xref: cantaloupe.srv.cs.cmu.edu alt.atheism:49...  alt.atheism   \n",
      "1           1  Xref: cantaloupe.srv.cs.cmu.edu alt.atheism:51...  alt.atheism   \n",
      "2           2  Newsgroups: alt.atheism\\nPath: cantaloupe.srv....  alt.atheism   \n",
      "3           3  Xref: cantaloupe.srv.cs.cmu.edu alt.atheism:51...  alt.atheism   \n",
      "4           4  Xref: cantaloupe.srv.cs.cmu.edu alt.atheism:51...  alt.atheism   \n",
      "\n",
      "                                      Processed_Data  \n",
      "0  xref cantaloup srv cs cmu edu alt atheism alt ...  \n",
      "1  xref cantaloup srv cs cmu edu alt atheism alt ...  \n",
      "2  newsgroup alt atheism path cantaloup srv cs cm...  \n",
      "3  xref cantaloup srv cs cmu edu alt atheism alt ...  \n",
      "4  xref cantaloup srv cs cmu edu alt atheism soc ...  \n"
     ]
    }
   ],
   "source": [
    "def preprocess_text(text):\n",
    "    text = re.sub(r'\\W', ' ', text)\n",
    "    text = re.sub(r'\\d', ' ', text)\n",
    "    text = text.lower()\n",
    "    words = word_tokenize(text)\n",
    "    stop_words = set(stopwords.words('english'))\n",
    "    words = [word for word in words if word not in stop_words]\n",
    "    stemmer = PorterStemmer()\n",
    "    words = [stemmer.stem(word) for word in words]  \n",
    "    return ' '.join(words)\n",
    "data['Processed_Data'] = data['Data'].apply(preprocess_text)\n",
    "print(data.head())"
   ]
  },
  {
   "cell_type": "markdown",
   "id": "04af3627",
   "metadata": {},
   "source": [
    "# Feature extraction using TF-IDF"
   ]
  },
  {
   "cell_type": "code",
   "execution_count": 8,
   "id": "71ae63bc",
   "metadata": {},
   "outputs": [],
   "source": [
    "tfidf_vectorizer = TfidfVectorizer(max_features=5000)\n",
    "X = tfidf_vectorizer.fit_transform(data['Processed_Data'])\n",
    "from sklearn.preprocessing import LabelEncoder\n",
    "label_encoder = LabelEncoder()\n",
    "y = label_encoder.fit_transform(data['Labels'])\n"
   ]
  },
  {
   "cell_type": "markdown",
   "id": "cdc25df6",
   "metadata": {},
   "source": [
    "# Naive Bayes Model for Text Classification"
   ]
  },
  {
   "cell_type": "markdown",
   "id": "e0aab415",
   "metadata": {},
   "source": [
    "# Split the data into training and test sets"
   ]
  },
  {
   "cell_type": "code",
   "execution_count": 9,
   "id": "9bb1e023",
   "metadata": {},
   "outputs": [],
   "source": [
    "from sklearn.model_selection import train_test_split\n",
    "X_train, X_test, y_train, y_test = train_test_split(X, y, test_size=0.2, random_state=42)"
   ]
  },
  {
   "cell_type": "markdown",
   "id": "232e11cb",
   "metadata": {},
   "source": [
    "# Implement a Naive Bayes classifier"
   ]
  },
  {
   "cell_type": "code",
   "execution_count": 10,
   "id": "bfaf8aab",
   "metadata": {},
   "outputs": [],
   "source": [
    "from sklearn.naive_bayes import MultinomialNB\n",
    "from sklearn.metrics import accuracy_score, precision_score, recall_score, f1_score\n",
    "nb_classifier = MultinomialNB()\n",
    "nb_classifier.fit(X_train, y_train)\n",
    "y_pred = nb_classifier.predict(X_test)"
   ]
  },
  {
   "cell_type": "markdown",
   "id": "eddceb3a",
   "metadata": {},
   "source": [
    "# Sentiment Analysis"
   ]
  },
  {
   "cell_type": "code",
   "execution_count": 16,
   "id": "550d0dcd",
   "metadata": {},
   "outputs": [
    {
     "name": "stdout",
     "output_type": "stream",
     "text": [
      "   Unnamed: 0                                               Data       Labels  \\\n",
      "0           0  Xref: cantaloupe.srv.cs.cmu.edu alt.atheism:49...  alt.atheism   \n",
      "1           1  Xref: cantaloupe.srv.cs.cmu.edu alt.atheism:51...  alt.atheism   \n",
      "2           2  Newsgroups: alt.atheism\\nPath: cantaloupe.srv....  alt.atheism   \n",
      "3           3  Xref: cantaloupe.srv.cs.cmu.edu alt.atheism:51...  alt.atheism   \n",
      "4           4  Xref: cantaloupe.srv.cs.cmu.edu alt.atheism:51...  alt.atheism   \n",
      "\n",
      "                                      Processed_Data Sentiment  \n",
      "0  xref cantaloup srv cs cmu edu alt atheism alt ...  positive  \n",
      "1  xref cantaloup srv cs cmu edu alt atheism alt ...  positive  \n",
      "2  newsgroup alt atheism path cantaloup srv cs cm...  positive  \n",
      "3  xref cantaloup srv cs cmu edu alt atheism alt ...  positive  \n",
      "4  xref cantaloup srv cs cmu edu alt atheism soc ...  negative  \n"
     ]
    }
   ],
   "source": [
    "from textblob import TextBlob\n",
    "def get_sentiment(text):\n",
    "    analysis = TextBlob(text)\n",
    "    if analysis.sentiment.polarity > 0:\n",
    "        return 'positive'\n",
    "    elif analysis.sentiment.polarity < 0:\n",
    "        return 'negative'\n",
    "    else:\n",
    "        return 'neutral'\n",
    "data['Sentiment'] = data['Data'].apply(get_sentiment)\n",
    "print(data.head())\n"
   ]
  },
  {
   "cell_type": "markdown",
   "id": "03368df7",
   "metadata": {},
   "source": [
    "# Examine sentiment distribution across categories"
   ]
  },
  {
   "cell_type": "code",
   "execution_count": 17,
   "id": "e14ef072",
   "metadata": {},
   "outputs": [
    {
     "name": "stdout",
     "output_type": "stream",
     "text": [
      "Sentiment                 negative  neutral  positive\n",
      "Labels                                               \n",
      "alt.atheism               0.199000    0.000  0.801000\n",
      "comp.graphics             0.250000    0.001  0.749000\n",
      "comp.os.ms-windows.misc   0.236000    0.000  0.764000\n",
      "comp.sys.ibm.pc.hardware  0.238000    0.001  0.761000\n",
      "comp.sys.mac.hardware     0.242000    0.000  0.758000\n",
      "comp.windows.x            0.290000    0.002  0.708000\n",
      "misc.forsale              0.229000    0.000  0.771000\n",
      "rec.autos                 0.201000    0.000  0.799000\n",
      "rec.motorcycles           0.262000    0.000  0.738000\n",
      "rec.sport.baseball        0.249000    0.000  0.751000\n",
      "rec.sport.hockey          0.297000    0.000  0.703000\n",
      "sci.crypt                 0.209000    0.000  0.791000\n",
      "sci.electronics           0.211000    0.000  0.789000\n",
      "sci.med                   0.219000    0.000  0.781000\n",
      "sci.space                 0.235000    0.001  0.764000\n",
      "soc.religion.christian    0.171515    0.000  0.828485\n",
      "talk.politics.guns        0.283000    0.000  0.717000\n",
      "talk.politics.mideast     0.281000    0.000  0.719000\n",
      "talk.politics.misc        0.212000    0.001  0.787000\n",
      "talk.religion.misc        0.195000    0.000  0.805000\n"
     ]
    }
   ],
   "source": [
    "sentiment_distribution = data.groupby('Labels')['Sentiment'].value_counts(normalize=True).unstack().fillna(0)\n",
    "print(sentiment_distribution)"
   ]
  },
  {
   "cell_type": "markdown",
   "id": "35ad633a",
   "metadata": {},
   "source": [
    "# Evaluation"
   ]
  },
  {
   "cell_type": "code",
   "execution_count": 18,
   "id": "3a94da18",
   "metadata": {},
   "outputs": [
    {
     "name": "stdout",
     "output_type": "stream",
     "text": [
      "Accuracy: 0.8910\n",
      "Precision: 0.8910\n",
      "Recall: 0.8910\n",
      "F1 Score: 0.8904\n"
     ]
    }
   ],
   "source": [
    "accuracy = accuracy_score(y_test, y_pred)\n",
    "precision = precision_score(y_test, y_pred, average='weighted')\n",
    "recall = recall_score(y_test, y_pred, average='weighted')\n",
    "f1 = f1_score(y_test, y_pred, average='weighted')\n",
    "\n",
    "print(f'Accuracy: {accuracy:.4f}')\n",
    "print(f'Precision: {precision:.4f}')\n",
    "print(f'Recall: {recall:.4f}')\n",
    "print(f'F1 Score: {f1:.4f}')\n"
   ]
  },
  {
   "cell_type": "markdown",
   "id": "438a6b81",
   "metadata": {},
   "source": [
    "# sentiment analysis results"
   ]
  },
  {
   "cell_type": "markdown",
   "id": "a14a3e32",
   "metadata": {},
   "source": [
    "\n",
    "The Naive Bayes classifier performed with an accuracy of 0.8910, precision of 0.8910, recall of 0.8910, and an F1 score of 0.8904.\n",
    "\n",
    "Challenges encountered included balancing the dataset and tuning the hyperparameters for the Naive Bayes model.\n",
    "\n",
    "Sentiment analysis showed the distribution of positive, negative, and neutral sentiments across different categories. This provides insights into the overall tone and mood of the blog posts in each category.\n"
   ]
  },
  {
   "cell_type": "markdown",
   "id": "17acbf0b",
   "metadata": {},
   "source": [
    "# Conclusion"
   ]
  },
  {
   "cell_type": "markdown",
   "id": "cdae7075",
   "metadata": {},
   "source": [
    "The analysis and classification of blog posts using a Naive Bayes classifier and sentiment analysis provided valuable insights into the content and sentiment of the blog posts. The Naive Bayes model showed good performance in classifying the posts, and the sentiment analysis revealed interesting patterns in the tone of the posts across different categories"
   ]
  },
  {
   "cell_type": "code",
   "execution_count": null,
   "id": "261dde87",
   "metadata": {},
   "outputs": [],
   "source": []
  }
 ],
 "metadata": {
  "kernelspec": {
   "display_name": "Python 3 (ipykernel)",
   "language": "python",
   "name": "python3"
  },
  "language_info": {
   "codemirror_mode": {
    "name": "ipython",
    "version": 3
   },
   "file_extension": ".py",
   "mimetype": "text/x-python",
   "name": "python",
   "nbconvert_exporter": "python",
   "pygments_lexer": "ipython3",
   "version": "3.9.12"
  }
 },
 "nbformat": 4,
 "nbformat_minor": 5
}
