{
 "cells": [
  {
   "cell_type": "markdown",
   "id": "dc52d04c",
   "metadata": {},
   "source": [
    "# Pandas and numpy has been used for data manipulation and numerical calculations. Matplotlib and seaborn has been used for data visualisation.\n"
   ]
  },
  {
   "cell_type": "code",
   "execution_count": 1,
   "id": "ef022252",
   "metadata": {},
   "outputs": [],
   "source": [
    "import pandas as pd\n",
    "import numpy as np\n",
    "import matplotlib.pyplot as plt\n",
    "import seaborn as sns\n",
    "import warnings\n",
    "warnings.filterwarnings('ignore')"
   ]
  },
  {
   "cell_type": "markdown",
   "id": "9e09f5f4",
   "metadata": {},
   "source": [
    "# Reading dataset\n"
   ]
  },
  {
   "cell_type": "code",
   "execution_count": 2,
   "id": "4e2aa0f9",
   "metadata": {},
   "outputs": [
    {
     "name": "stdout",
     "output_type": "stream",
     "text": [
      "       age          workclass  fnlwgt    education  education_num  \\\n",
      "0       39          State-gov   77516    Bachelors             13   \n",
      "1       50   Self-emp-not-inc   83311    Bachelors             13   \n",
      "2       38            Private  215646      HS-grad              9   \n",
      "3       53            Private  234721         11th              7   \n",
      "4       28            Private  338409    Bachelors             13   \n",
      "...    ...                ...     ...          ...            ...   \n",
      "32556   27            Private  257302   Assoc-acdm             12   \n",
      "32557   40            Private  154374      HS-grad              9   \n",
      "32558   58            Private  151910      HS-grad              9   \n",
      "32559   22            Private  201490      HS-grad              9   \n",
      "32560   52       Self-emp-inc  287927      HS-grad              9   \n",
      "\n",
      "            marital_status          occupation    relationship    race  \\\n",
      "0            Never-married        Adm-clerical   Not-in-family   White   \n",
      "1       Married-civ-spouse     Exec-managerial         Husband   White   \n",
      "2                 Divorced   Handlers-cleaners   Not-in-family   White   \n",
      "3       Married-civ-spouse   Handlers-cleaners         Husband   Black   \n",
      "4       Married-civ-spouse      Prof-specialty            Wife   Black   \n",
      "...                    ...                 ...             ...     ...   \n",
      "32556   Married-civ-spouse        Tech-support            Wife   White   \n",
      "32557   Married-civ-spouse   Machine-op-inspct         Husband   White   \n",
      "32558              Widowed        Adm-clerical       Unmarried   White   \n",
      "32559        Never-married        Adm-clerical       Own-child   White   \n",
      "32560   Married-civ-spouse     Exec-managerial            Wife   White   \n",
      "\n",
      "           sex  capital_gain  capital_loss  hours_per_week  native_country  \\\n",
      "0         Male          2174             0              40   United-States   \n",
      "1         Male             0             0              13   United-States   \n",
      "2         Male             0             0              40   United-States   \n",
      "3         Male             0             0              40   United-States   \n",
      "4       Female             0             0              40            Cuba   \n",
      "...        ...           ...           ...             ...             ...   \n",
      "32556   Female             0             0              38   United-States   \n",
      "32557     Male             0             0              40   United-States   \n",
      "32558   Female             0             0              40   United-States   \n",
      "32559     Male             0             0              20   United-States   \n",
      "32560   Female         15024             0              40   United-States   \n",
      "\n",
      "       income  \n",
      "0       <=50K  \n",
      "1       <=50K  \n",
      "2       <=50K  \n",
      "3       <=50K  \n",
      "4       <=50K  \n",
      "...       ...  \n",
      "32556   <=50K  \n",
      "32557    >50K  \n",
      "32558   <=50K  \n",
      "32559   <=50K  \n",
      "32560    >50K  \n",
      "\n",
      "[32561 rows x 15 columns]\n"
     ]
    }
   ],
   "source": [
    "df=pd.read_csv(r\"C:\\Users\\disha\\Downloads\\EDA2\\EDA2\\adult_with_headers.csv\")\n",
    "print(df)"
   ]
  },
  {
   "cell_type": "markdown",
   "id": "17efa495",
   "metadata": {},
   "source": [
    "# analyzing the data"
   ]
  },
  {
   "cell_type": "code",
   "execution_count": 3,
   "id": "79bbff17",
   "metadata": {},
   "outputs": [
    {
     "data": {
      "text/html": [
       "<div>\n",
       "<style scoped>\n",
       "    .dataframe tbody tr th:only-of-type {\n",
       "        vertical-align: middle;\n",
       "    }\n",
       "\n",
       "    .dataframe tbody tr th {\n",
       "        vertical-align: top;\n",
       "    }\n",
       "\n",
       "    .dataframe thead th {\n",
       "        text-align: right;\n",
       "    }\n",
       "</style>\n",
       "<table border=\"1\" class=\"dataframe\">\n",
       "  <thead>\n",
       "    <tr style=\"text-align: right;\">\n",
       "      <th></th>\n",
       "      <th>age</th>\n",
       "      <th>workclass</th>\n",
       "      <th>fnlwgt</th>\n",
       "      <th>education</th>\n",
       "      <th>education_num</th>\n",
       "      <th>marital_status</th>\n",
       "      <th>occupation</th>\n",
       "      <th>relationship</th>\n",
       "      <th>race</th>\n",
       "      <th>sex</th>\n",
       "      <th>capital_gain</th>\n",
       "      <th>capital_loss</th>\n",
       "      <th>hours_per_week</th>\n",
       "      <th>native_country</th>\n",
       "      <th>income</th>\n",
       "    </tr>\n",
       "  </thead>\n",
       "  <tbody>\n",
       "    <tr>\n",
       "      <th>0</th>\n",
       "      <td>39</td>\n",
       "      <td>State-gov</td>\n",
       "      <td>77516</td>\n",
       "      <td>Bachelors</td>\n",
       "      <td>13</td>\n",
       "      <td>Never-married</td>\n",
       "      <td>Adm-clerical</td>\n",
       "      <td>Not-in-family</td>\n",
       "      <td>White</td>\n",
       "      <td>Male</td>\n",
       "      <td>2174</td>\n",
       "      <td>0</td>\n",
       "      <td>40</td>\n",
       "      <td>United-States</td>\n",
       "      <td>&lt;=50K</td>\n",
       "    </tr>\n",
       "    <tr>\n",
       "      <th>1</th>\n",
       "      <td>50</td>\n",
       "      <td>Self-emp-not-inc</td>\n",
       "      <td>83311</td>\n",
       "      <td>Bachelors</td>\n",
       "      <td>13</td>\n",
       "      <td>Married-civ-spouse</td>\n",
       "      <td>Exec-managerial</td>\n",
       "      <td>Husband</td>\n",
       "      <td>White</td>\n",
       "      <td>Male</td>\n",
       "      <td>0</td>\n",
       "      <td>0</td>\n",
       "      <td>13</td>\n",
       "      <td>United-States</td>\n",
       "      <td>&lt;=50K</td>\n",
       "    </tr>\n",
       "    <tr>\n",
       "      <th>2</th>\n",
       "      <td>38</td>\n",
       "      <td>Private</td>\n",
       "      <td>215646</td>\n",
       "      <td>HS-grad</td>\n",
       "      <td>9</td>\n",
       "      <td>Divorced</td>\n",
       "      <td>Handlers-cleaners</td>\n",
       "      <td>Not-in-family</td>\n",
       "      <td>White</td>\n",
       "      <td>Male</td>\n",
       "      <td>0</td>\n",
       "      <td>0</td>\n",
       "      <td>40</td>\n",
       "      <td>United-States</td>\n",
       "      <td>&lt;=50K</td>\n",
       "    </tr>\n",
       "    <tr>\n",
       "      <th>3</th>\n",
       "      <td>53</td>\n",
       "      <td>Private</td>\n",
       "      <td>234721</td>\n",
       "      <td>11th</td>\n",
       "      <td>7</td>\n",
       "      <td>Married-civ-spouse</td>\n",
       "      <td>Handlers-cleaners</td>\n",
       "      <td>Husband</td>\n",
       "      <td>Black</td>\n",
       "      <td>Male</td>\n",
       "      <td>0</td>\n",
       "      <td>0</td>\n",
       "      <td>40</td>\n",
       "      <td>United-States</td>\n",
       "      <td>&lt;=50K</td>\n",
       "    </tr>\n",
       "    <tr>\n",
       "      <th>4</th>\n",
       "      <td>28</td>\n",
       "      <td>Private</td>\n",
       "      <td>338409</td>\n",
       "      <td>Bachelors</td>\n",
       "      <td>13</td>\n",
       "      <td>Married-civ-spouse</td>\n",
       "      <td>Prof-specialty</td>\n",
       "      <td>Wife</td>\n",
       "      <td>Black</td>\n",
       "      <td>Female</td>\n",
       "      <td>0</td>\n",
       "      <td>0</td>\n",
       "      <td>40</td>\n",
       "      <td>Cuba</td>\n",
       "      <td>&lt;=50K</td>\n",
       "    </tr>\n",
       "  </tbody>\n",
       "</table>\n",
       "</div>"
      ],
      "text/plain": [
       "   age          workclass  fnlwgt   education  education_num  \\\n",
       "0   39          State-gov   77516   Bachelors             13   \n",
       "1   50   Self-emp-not-inc   83311   Bachelors             13   \n",
       "2   38            Private  215646     HS-grad              9   \n",
       "3   53            Private  234721        11th              7   \n",
       "4   28            Private  338409   Bachelors             13   \n",
       "\n",
       "        marital_status          occupation    relationship    race      sex  \\\n",
       "0        Never-married        Adm-clerical   Not-in-family   White     Male   \n",
       "1   Married-civ-spouse     Exec-managerial         Husband   White     Male   \n",
       "2             Divorced   Handlers-cleaners   Not-in-family   White     Male   \n",
       "3   Married-civ-spouse   Handlers-cleaners         Husband   Black     Male   \n",
       "4   Married-civ-spouse      Prof-specialty            Wife   Black   Female   \n",
       "\n",
       "   capital_gain  capital_loss  hours_per_week  native_country  income  \n",
       "0          2174             0              40   United-States   <=50K  \n",
       "1             0             0              13   United-States   <=50K  \n",
       "2             0             0              40   United-States   <=50K  \n",
       "3             0             0              40   United-States   <=50K  \n",
       "4             0             0              40            Cuba   <=50K  "
      ]
     },
     "execution_count": 3,
     "metadata": {},
     "output_type": "execute_result"
    }
   ],
   "source": [
    "df.head()"
   ]
  },
  {
   "cell_type": "code",
   "execution_count": 4,
   "id": "9e13e73d",
   "metadata": {},
   "outputs": [
    {
     "name": "stdout",
     "output_type": "stream",
     "text": [
      "<class 'pandas.core.frame.DataFrame'>\n",
      "RangeIndex: 32561 entries, 0 to 32560\n",
      "Data columns (total 15 columns):\n",
      " #   Column          Non-Null Count  Dtype \n",
      "---  ------          --------------  ----- \n",
      " 0   age             32561 non-null  int64 \n",
      " 1   workclass       32561 non-null  object\n",
      " 2   fnlwgt          32561 non-null  int64 \n",
      " 3   education       32561 non-null  object\n",
      " 4   education_num   32561 non-null  int64 \n",
      " 5   marital_status  32561 non-null  object\n",
      " 6   occupation      32561 non-null  object\n",
      " 7   relationship    32561 non-null  object\n",
      " 8   race            32561 non-null  object\n",
      " 9   sex             32561 non-null  object\n",
      " 10  capital_gain    32561 non-null  int64 \n",
      " 11  capital_loss    32561 non-null  int64 \n",
      " 12  hours_per_week  32561 non-null  int64 \n",
      " 13  native_country  32561 non-null  object\n",
      " 14  income          32561 non-null  object\n",
      "dtypes: int64(6), object(9)\n",
      "memory usage: 3.7+ MB\n"
     ]
    }
   ],
   "source": [
    "df.info()"
   ]
  },
  {
   "cell_type": "markdown",
   "id": "358b2afd",
   "metadata": {},
   "source": [
    "# check for duplication"
   ]
  },
  {
   "cell_type": "code",
   "execution_count": 5,
   "id": "55b01549",
   "metadata": {},
   "outputs": [
    {
     "data": {
      "text/plain": [
       "age                  73\n",
       "workclass             9\n",
       "fnlwgt            21648\n",
       "education            16\n",
       "education_num        16\n",
       "marital_status        7\n",
       "occupation           15\n",
       "relationship          6\n",
       "race                  5\n",
       "sex                   2\n",
       "capital_gain        119\n",
       "capital_loss         92\n",
       "hours_per_week       94\n",
       "native_country       42\n",
       "income                2\n",
       "dtype: int64"
      ]
     },
     "execution_count": 5,
     "metadata": {},
     "output_type": "execute_result"
    }
   ],
   "source": [
    "df.nunique()"
   ]
  },
  {
   "cell_type": "markdown",
   "id": "469917a1",
   "metadata": {},
   "source": [
    "# Missing values calculation"
   ]
  },
  {
   "cell_type": "code",
   "execution_count": 6,
   "id": "7847dd3c",
   "metadata": {},
   "outputs": [
    {
     "data": {
      "text/plain": [
       "age               0\n",
       "workclass         0\n",
       "fnlwgt            0\n",
       "education         0\n",
       "education_num     0\n",
       "marital_status    0\n",
       "occupation        0\n",
       "relationship      0\n",
       "race              0\n",
       "sex               0\n",
       "capital_gain      0\n",
       "capital_loss      0\n",
       "hours_per_week    0\n",
       "native_country    0\n",
       "income            0\n",
       "dtype: int64"
      ]
     },
     "execution_count": 6,
     "metadata": {},
     "output_type": "execute_result"
    }
   ],
   "source": [
    "df.isnull().sum()"
   ]
  },
  {
   "cell_type": "markdown",
   "id": "99ed7e79",
   "metadata": {},
   "source": [
    "# statistical summary"
   ]
  },
  {
   "cell_type": "code",
   "execution_count": 7,
   "id": "eee1ed16",
   "metadata": {
    "scrolled": true
   },
   "outputs": [
    {
     "data": {
      "text/html": [
       "<div>\n",
       "<style scoped>\n",
       "    .dataframe tbody tr th:only-of-type {\n",
       "        vertical-align: middle;\n",
       "    }\n",
       "\n",
       "    .dataframe tbody tr th {\n",
       "        vertical-align: top;\n",
       "    }\n",
       "\n",
       "    .dataframe thead th {\n",
       "        text-align: right;\n",
       "    }\n",
       "</style>\n",
       "<table border=\"1\" class=\"dataframe\">\n",
       "  <thead>\n",
       "    <tr style=\"text-align: right;\">\n",
       "      <th></th>\n",
       "      <th>count</th>\n",
       "      <th>mean</th>\n",
       "      <th>std</th>\n",
       "      <th>min</th>\n",
       "      <th>25%</th>\n",
       "      <th>50%</th>\n",
       "      <th>75%</th>\n",
       "      <th>max</th>\n",
       "    </tr>\n",
       "  </thead>\n",
       "  <tbody>\n",
       "    <tr>\n",
       "      <th>age</th>\n",
       "      <td>32561.0</td>\n",
       "      <td>38.581647</td>\n",
       "      <td>13.640433</td>\n",
       "      <td>17.0</td>\n",
       "      <td>28.0</td>\n",
       "      <td>37.0</td>\n",
       "      <td>48.0</td>\n",
       "      <td>90.0</td>\n",
       "    </tr>\n",
       "    <tr>\n",
       "      <th>fnlwgt</th>\n",
       "      <td>32561.0</td>\n",
       "      <td>189778.366512</td>\n",
       "      <td>105549.977697</td>\n",
       "      <td>12285.0</td>\n",
       "      <td>117827.0</td>\n",
       "      <td>178356.0</td>\n",
       "      <td>237051.0</td>\n",
       "      <td>1484705.0</td>\n",
       "    </tr>\n",
       "    <tr>\n",
       "      <th>education_num</th>\n",
       "      <td>32561.0</td>\n",
       "      <td>10.080679</td>\n",
       "      <td>2.572720</td>\n",
       "      <td>1.0</td>\n",
       "      <td>9.0</td>\n",
       "      <td>10.0</td>\n",
       "      <td>12.0</td>\n",
       "      <td>16.0</td>\n",
       "    </tr>\n",
       "    <tr>\n",
       "      <th>capital_gain</th>\n",
       "      <td>32561.0</td>\n",
       "      <td>1077.648844</td>\n",
       "      <td>7385.292085</td>\n",
       "      <td>0.0</td>\n",
       "      <td>0.0</td>\n",
       "      <td>0.0</td>\n",
       "      <td>0.0</td>\n",
       "      <td>99999.0</td>\n",
       "    </tr>\n",
       "    <tr>\n",
       "      <th>capital_loss</th>\n",
       "      <td>32561.0</td>\n",
       "      <td>87.303830</td>\n",
       "      <td>402.960219</td>\n",
       "      <td>0.0</td>\n",
       "      <td>0.0</td>\n",
       "      <td>0.0</td>\n",
       "      <td>0.0</td>\n",
       "      <td>4356.0</td>\n",
       "    </tr>\n",
       "    <tr>\n",
       "      <th>hours_per_week</th>\n",
       "      <td>32561.0</td>\n",
       "      <td>40.437456</td>\n",
       "      <td>12.347429</td>\n",
       "      <td>1.0</td>\n",
       "      <td>40.0</td>\n",
       "      <td>40.0</td>\n",
       "      <td>45.0</td>\n",
       "      <td>99.0</td>\n",
       "    </tr>\n",
       "  </tbody>\n",
       "</table>\n",
       "</div>"
      ],
      "text/plain": [
       "                  count           mean            std      min       25%  \\\n",
       "age             32561.0      38.581647      13.640433     17.0      28.0   \n",
       "fnlwgt          32561.0  189778.366512  105549.977697  12285.0  117827.0   \n",
       "education_num   32561.0      10.080679       2.572720      1.0       9.0   \n",
       "capital_gain    32561.0    1077.648844    7385.292085      0.0       0.0   \n",
       "capital_loss    32561.0      87.303830     402.960219      0.0       0.0   \n",
       "hours_per_week  32561.0      40.437456      12.347429      1.0      40.0   \n",
       "\n",
       "                     50%       75%        max  \n",
       "age                 37.0      48.0       90.0  \n",
       "fnlwgt          178356.0  237051.0  1484705.0  \n",
       "education_num       10.0      12.0       16.0  \n",
       "capital_gain         0.0       0.0    99999.0  \n",
       "capital_loss         0.0       0.0     4356.0  \n",
       "hours_per_week      40.0      45.0       99.0  "
      ]
     },
     "execution_count": 7,
     "metadata": {},
     "output_type": "execute_result"
    }
   ],
   "source": [
    "df.describe().T"
   ]
  },
  {
   "cell_type": "code",
   "execution_count": 8,
   "id": "fa0e2bde",
   "metadata": {},
   "outputs": [
    {
     "name": "stdout",
     "output_type": "stream",
     "text": [
      "Categorical Variables:\n",
      "Index(['workclass', 'education', 'marital_status', 'occupation',\n",
      "       'relationship', 'race', 'sex', 'native_country', 'income'],\n",
      "      dtype='object')\n",
      "Numerical Variables:\n",
      "['age', 'fnlwgt', 'education_num', 'capital_gain', 'capital_loss', 'hours_per_week']\n"
     ]
    }
   ],
   "source": [
    "cat_cols=df.select_dtypes(include=['object']).columns\n",
    "num_cols = df.select_dtypes(include=np.number).columns.tolist()\n",
    "print(\"Categorical Variables:\")\n",
    "print(cat_cols)\n",
    "print(\"Numerical Variables:\")\n",
    "print(num_cols)\n"
   ]
  },
  {
   "cell_type": "markdown",
   "id": "6b566085",
   "metadata": {},
   "source": [
    "# min-max scaling"
   ]
  },
  {
   "cell_type": "code",
   "execution_count": 9,
   "id": "91d4e46d",
   "metadata": {},
   "outputs": [
    {
     "name": "stdout",
     "output_type": "stream",
     "text": [
      "age                    90\n",
      "fnlwgt            1484705\n",
      "education_num          16\n",
      "capital_gain        99999\n",
      "capital_loss         4356\n",
      "hours_per_week         99\n",
      "dtype: int64\n"
     ]
    }
   ],
   "source": [
    "numeric_cols = df.select_dtypes(include=[np.number]).columns\n",
    "abs_vals = np.abs(df[numeric_cols])\n",
    "max_vals = abs_vals.max()\n",
    "print(max_vals)"
   ]
  },
  {
   "cell_type": "code",
   "execution_count": 10,
   "id": "b65ad581",
   "metadata": {
    "scrolled": true
   },
   "outputs": [
    {
     "name": "stdout",
     "output_type": "stream",
     "text": [
      "            age  capital_gain  capital_loss education  education_num  \\\n",
      "0     -0.566667     -0.978260          -1.0       NaN        -0.1875   \n",
      "1     -0.444444     -1.000000          -1.0       NaN        -0.1875   \n",
      "2     -0.577778     -1.000000          -1.0       NaN        -0.4375   \n",
      "3     -0.411111     -1.000000          -1.0       NaN        -0.5625   \n",
      "4     -0.688889     -1.000000          -1.0       NaN        -0.1875   \n",
      "...         ...           ...           ...       ...            ...   \n",
      "32556 -0.700000     -1.000000          -1.0       NaN        -0.2500   \n",
      "32557 -0.555556     -1.000000          -1.0       NaN        -0.4375   \n",
      "32558 -0.355556     -1.000000          -1.0       NaN        -0.4375   \n",
      "32559 -0.755556     -1.000000          -1.0       NaN        -0.4375   \n",
      "32560 -0.422222     -0.849758          -1.0       NaN        -0.4375   \n",
      "\n",
      "         fnlwgt  hours_per_week income marital_status native_country  \\\n",
      "0     -0.947790       -0.595960    NaN            NaN            NaN   \n",
      "1     -0.943887       -0.868687    NaN            NaN            NaN   \n",
      "2     -0.854755       -0.595960    NaN            NaN            NaN   \n",
      "3     -0.841907       -0.595960    NaN            NaN            NaN   \n",
      "4     -0.772070       -0.595960    NaN            NaN            NaN   \n",
      "...         ...             ...    ...            ...            ...   \n",
      "32556 -0.826698       -0.616162    NaN            NaN            NaN   \n",
      "32557 -0.896024       -0.595960    NaN            NaN            NaN   \n",
      "32558 -0.897683       -0.595960    NaN            NaN            NaN   \n",
      "32559 -0.864290       -0.797980    NaN            NaN            NaN   \n",
      "32560 -0.806071       -0.595960    NaN            NaN            NaN   \n",
      "\n",
      "      occupation race relationship  sex workclass  \n",
      "0            NaN  NaN          NaN  NaN       NaN  \n",
      "1            NaN  NaN          NaN  NaN       NaN  \n",
      "2            NaN  NaN          NaN  NaN       NaN  \n",
      "3            NaN  NaN          NaN  NaN       NaN  \n",
      "4            NaN  NaN          NaN  NaN       NaN  \n",
      "...          ...  ...          ...  ...       ...  \n",
      "32556        NaN  NaN          NaN  NaN       NaN  \n",
      "32557        NaN  NaN          NaN  NaN       NaN  \n",
      "32558        NaN  NaN          NaN  NaN       NaN  \n",
      "32559        NaN  NaN          NaN  NaN       NaN  \n",
      "32560        NaN  NaN          NaN  NaN       NaN  \n",
      "\n",
      "[32561 rows x 15 columns]\n"
     ]
    }
   ],
   "source": [
    "   print((df - max_vals) / max_vals)"
   ]
  },
  {
   "cell_type": "code",
   "execution_count": 11,
   "id": "eb1d428f",
   "metadata": {
    "scrolled": true
   },
   "outputs": [
    {
     "data": {
      "text/plain": [
       "(array([1.3117e+04, 1.5327e+04, 3.4980e+03, 4.7700e+02, 1.0200e+02,\n",
       "        2.0000e+01, 1.0000e+01, 5.0000e+00, 2.0000e+00, 3.0000e+00]),\n",
       " array([0. , 0.1, 0.2, 0.3, 0.4, 0.5, 0.6, 0.7, 0.8, 0.9, 1. ]),\n",
       " <BarContainer object of 10 artists>)"
      ]
     },
     "execution_count": 11,
     "metadata": {},
     "output_type": "execute_result"
    },
    {
     "data": {
      "image/png": "[encoded data removed]",
      "text/plain": [
       "<Figure size 864x288 with 1 Axes>"
      ]
     },
     "metadata": {
      "needs_background": "light"
     },
     "output_type": "display_data"
    }
   ],
   "source": [
    "\n",
    "from sklearn.preprocessing import MinMaxScaler\n",
    "numerical_cols = ['age', 'fnlwgt', 'education_num', 'capital_gain', 'capital_loss', 'hours_per_week']\n",
    "numerical_data = df[numerical_cols]\n",
    "scaler = MinMaxScaler()\n",
    "scaled_data = scaler.fit_transform(numerical_data)\n",
    "df_scaled = pd.DataFrame(scaled_data, columns=numerical_cols)\n",
    "fig, ax = plt.subplots(figsize=(12, 4))\n",
    "\n",
    "ax.hist(scaled_data [:,0])\n",
    "ax.hist(scaled_data[:,1])"
   ]
  },
  {
   "cell_type": "markdown",
   "id": "8d4ed8b4",
   "metadata": {},
   "source": [
    "Min-Max scaling ensures that all features are on the same scale, which can improve the performance and convergence of gradient-based algorithms."
   ]
  },
  {
   "cell_type": "markdown",
   "id": "dc6a10e8",
   "metadata": {},
   "source": [
    "# standard scaling"
   ]
  },
  {
   "cell_type": "code",
   "execution_count": 12,
   "id": "9efaa86c",
   "metadata": {},
   "outputs": [
    {
     "name": "stdout",
     "output_type": "stream",
     "text": [
      "        age    fnlwgt  education_num  capital_gain  capital_loss  \\\n",
      "0  0.030671 -1.063611       1.134739      0.148453      -0.21666   \n",
      "1  0.837109 -1.008707       1.134739     -0.145920      -0.21666   \n",
      "2 -0.042642  0.245079      -0.420060     -0.145920      -0.21666   \n",
      "3  1.057047  0.425801      -1.197459     -0.145920      -0.21666   \n",
      "4 -0.775768  1.408176       1.134739     -0.145920      -0.21666   \n",
      "\n",
      "   hours_per_week  \n",
      "0       -0.035429  \n",
      "1       -2.222153  \n",
      "2       -0.035429  \n",
      "3       -0.035429  \n",
      "4       -0.035429  \n"
     ]
    }
   ],
   "source": [
    "from sklearn.preprocessing import StandardScaler\n",
    "numerical_cols = ['age', 'fnlwgt', 'education_num', 'capital_gain', 'capital_loss', 'hours_per_week']\n",
    "numerical_data = df[numerical_cols]\n",
    "scaler = StandardScaler()\n",
    "scaled_data = scaler.fit_transform(numerical_data)\n",
    "df_scaled = pd.DataFrame(scaled_data, columns=numerical_cols)\n",
    "print(df_scaled.head())\n",
    "\n",
    "\n"
   ]
  },
  {
   "cell_type": "code",
   "execution_count": 13,
   "id": "b833ad36",
   "metadata": {},
   "outputs": [
    {
     "name": "stdout",
     "output_type": "stream",
     "text": [
      "age               1.000031\n",
      "fnlwgt            1.000031\n",
      "education_num     1.000031\n",
      "capital_gain      1.000031\n",
      "capital_loss      1.000031\n",
      "hours_per_week    1.000031\n",
      "dtype: float64\n"
     ]
    }
   ],
   "source": [
    "print(df_scaled.var())"
   ]
  },
  {
   "cell_type": "code",
   "execution_count": 14,
   "id": "53a0c833",
   "metadata": {
    "scrolled": true
   },
   "outputs": [
    {
     "data": {
      "text/plain": [
       "(array([1.3117e+04, 1.5327e+04, 3.4980e+03, 4.7700e+02, 1.0200e+02,\n",
       "        2.0000e+01, 1.0000e+01, 5.0000e+00, 2.0000e+00, 3.0000e+00]),\n",
       " array([-1.68163079, -0.28661144,  1.10840791,  2.50342726,  3.8984466 ,\n",
       "         5.29346595,  6.6884853 ,  8.08350465,  9.478524  , 10.87354334,\n",
       "        12.26856269]),\n",
       " <BarContainer object of 10 artists>)"
      ]
     },
     "execution_count": 14,
     "metadata": {},
     "output_type": "execute_result"
    },
    {
     "data": {
      "image/png": "[encoded data removed]",
      "text/plain": [
       "<Figure size 864x288 with 1 Axes>"
      ]
     },
     "metadata": {
      "needs_background": "light"
     },
     "output_type": "display_data"
    }
   ],
   "source": [
    "from sklearn.preprocessing import StandardScaler\n",
    "\n",
    "fig, ax= plt.subplots(figsize=(12, 4))\n",
    "scaled_data = scaler.fit_transform(numerical_data)\n",
    "scaler = StandardScaler()\n",
    "ax.hist(scaled_data [:,0])\n",
    "ax.hist(scaled_data [:,1])"
   ]
  },
  {
   "cell_type": "markdown",
   "id": "4a27f6fc",
   "metadata": {},
   "source": [
    "Standard scaling ensures that each feature contributes equally to the model by centering the data around 0 and standardizing the variance."
   ]
  },
  {
   "cell_type": "markdown",
   "id": "c0b483df",
   "metadata": {},
   "source": [
    "Standard Scaling is often preferred when the data follows a normal distribution or when using algorithms that assume data is normally distributed \n",
    "Min-Max Scaling is preferred when the distribution of data is not normal and when using algorithms that benefit from having data within a specific range\n",
    "Given the dataset contains features like 'capital_gain' and 'capital_loss' which can have extreme outliers, Min-Max scaling may be more suitable as it ensures all features are within a specific range"
   ]
  },
  {
   "cell_type": "markdown",
   "id": "6cefe3f8",
   "metadata": {},
   "source": [
    "# Encoding Techniques:"
   ]
  },
  {
   "cell_type": "markdown",
   "id": "204dcfc9",
   "metadata": {},
   "source": [
    "# Apply One-Hot Encoding to categorical variables with less than 5 categories."
   ]
  },
  {
   "cell_type": "code",
   "execution_count": 15,
   "id": "d7a1aed2",
   "metadata": {
    "scrolled": true
   },
   "outputs": [
    {
     "name": "stdout",
     "output_type": "stream",
     "text": [
      "   age          workclass  fnlwgt   education  education_num  \\\n",
      "0   39          State-gov   77516   Bachelors             13   \n",
      "1   50   Self-emp-not-inc   83311   Bachelors             13   \n",
      "2   38            Private  215646     HS-grad              9   \n",
      "3   53            Private  234721        11th              7   \n",
      "4   28            Private  338409   Bachelors             13   \n",
      "\n",
      "        marital_status          occupation    relationship    race  \\\n",
      "0        Never-married        Adm-clerical   Not-in-family   White   \n",
      "1   Married-civ-spouse     Exec-managerial         Husband   White   \n",
      "2             Divorced   Handlers-cleaners   Not-in-family   White   \n",
      "3   Married-civ-spouse   Handlers-cleaners         Husband   Black   \n",
      "4   Married-civ-spouse      Prof-specialty            Wife   Black   \n",
      "\n",
      "   capital_gain  capital_loss  hours_per_week  native_country  sex_ Female  \\\n",
      "0          2174             0              40   United-States            0   \n",
      "1             0             0              13   United-States            0   \n",
      "2             0             0              40   United-States            0   \n",
      "3             0             0              40   United-States            0   \n",
      "4             0             0              40            Cuba            1   \n",
      "\n",
      "   sex_ Male  income_ <=50K  income_ >50K  \n",
      "0          1              1             0  \n",
      "1          1              1             0  \n",
      "2          1              1             0  \n",
      "3          1              1             0  \n",
      "4          0              1             0  \n"
     ]
    }
   ],
   "source": [
    "categorical_cols = df.select_dtypes(include=['object']).columns\n",
    "cols_to_encode = [col for col in categorical_cols if df[col].nunique() < 5]\n",
    "df_encoded = pd.get_dummies(df, columns=cols_to_encode)\n",
    "print(df_encoded.head())"
   ]
  },
  {
   "cell_type": "markdown",
   "id": "88abba1d",
   "metadata": {},
   "source": [
    "# Use Label Encoding for categorical variables with more than 5 categories."
   ]
  },
  {
   "cell_type": "code",
   "execution_count": 16,
   "id": "fee1d1c2",
   "metadata": {},
   "outputs": [
    {
     "name": "stdout",
     "output_type": "stream",
     "text": [
      "   age  workclass  fnlwgt  education  education_num  marital_status  \\\n",
      "0   39          7   77516          9             13               4   \n",
      "1   50          6   83311          9             13               2   \n",
      "2   38          4  215646         11              9               0   \n",
      "3   53          4  234721          1              7               2   \n",
      "4   28          4  338409          9             13               2   \n",
      "\n",
      "   occupation  relationship    race      sex  capital_gain  capital_loss  \\\n",
      "0           1             1   White     Male          2174             0   \n",
      "1           4             0   White     Male             0             0   \n",
      "2           6             1   White     Male             0             0   \n",
      "3           6             0   Black     Male             0             0   \n",
      "4          10             5   Black   Female             0             0   \n",
      "\n",
      "   hours_per_week  native_country  income  \n",
      "0              40              39   <=50K  \n",
      "1              13              39   <=50K  \n",
      "2              40              39   <=50K  \n",
      "3              40              39   <=50K  \n",
      "4              40               5   <=50K  \n"
     ]
    }
   ],
   "source": [
    "from sklearn.preprocessing import LabelEncoder\n",
    "categorical_cols = ['workclass', 'education', 'marital_status', 'occupation', 'relationship', 'race', 'sex', 'native_country', 'income']\n",
    "label_encoders = {}\n",
    "for col in categorical_cols:\n",
    "    if df[col].nunique() > 5:\n",
    "        le = LabelEncoder()\n",
    "        df[col] = le.fit_transform(df[col])\n",
    "        label_encoders[col] = le\n",
    "\n",
    "print(df.head())"
   ]
  },
  {
   "cell_type": "markdown",
   "id": "7c101d44",
   "metadata": {},
   "source": [
    "One-Hot Encoding\n",
    "Pros: Ensures that no ordinal relationship is assumed among categories.\n",
    "Works well with algorithms that can handle sparse inputs \n",
    " Makes it easier to understand the model coefficients for each category.\n",
    "\n",
    "Cons: May slow down model training and require more memory.\n",
    "\n",
    "Label Encoding\n",
    "Pros:Easy to implement and doesn't increase the dimensionality of the dataset.\n",
    "suitable for algorithms that can leverage the ordinal nature of the categories (e.g., decision trees).\n",
    "\n",
    "Cons:Imposes an ordinal relationship between categories, which may not be appropriate for all datasets.\n",
    "Can lead to misleading results if the encoded numerical values are interpreted as having a meaningful order."
   ]
  },
  {
   "cell_type": "markdown",
   "id": "6da1fdb0",
   "metadata": {},
   "source": [
    "# Feature Engineering"
   ]
  },
  {
   "cell_type": "markdown",
   "id": "f08dc35d",
   "metadata": {},
   "source": [
    "# Create at least 2 new features that could be beneficial for the model. Explain the rationale behind your choices."
   ]
  },
  {
   "cell_type": "code",
   "execution_count": 17,
   "id": "9b1ff614",
   "metadata": {},
   "outputs": [
    {
     "name": "stdout",
     "output_type": "stream",
     "text": [
      "   age  workclass  fnlwgt  education  education_num  marital_status  \\\n",
      "0   39          7   77516          9             13               4   \n",
      "1   50          6   83311          9             13               2   \n",
      "2   38          4  215646         11              9               0   \n",
      "3   53          4  234721          1              7               2   \n",
      "4   28          4  338409          9             13               2   \n",
      "\n",
      "   occupation  relationship    race      sex  capital_gain  capital_loss  \\\n",
      "0           1             1   White     Male          2174             0   \n",
      "1           4             0   White     Male             0             0   \n",
      "2           6             1   White     Male             0             0   \n",
      "3           6             0   Black     Male             0             0   \n",
      "4          10             5   Black   Female             0             0   \n",
      "\n",
      "   hours_per_week  native_country  income  capital_diff  \\\n",
      "0              40              39   <=50K          2174   \n",
      "1              13              39   <=50K             0   \n",
      "2              40              39   <=50K             0   \n",
      "3              40              39   <=50K             0   \n",
      "4              40               5   <=50K             0   \n",
      "\n",
      "  work_hours_per_week_category  \n",
      "0                    full-time  \n",
      "1                    part-time  \n",
      "2                    full-time  \n",
      "3                    full-time  \n",
      "4                    full-time  \n"
     ]
    }
   ],
   "source": [
    "df['capital_diff'] = df['capital_gain'] - df['capital_loss']\n",
    "def categorize_hours(hours):\n",
    "    if hours < 30:\n",
    "        return 'part-time'\n",
    "    elif hours <= 40:\n",
    "        return 'full-time'\n",
    "    else:\n",
    "        return 'overtime'\n",
    "df['work_hours_per_week_category'] = df['hours_per_week'].apply(categorize_hours)\n",
    "print(df.head())"
   ]
  },
  {
   "cell_type": "markdown",
   "id": "9d08e3da",
   "metadata": {},
   "source": [
    "1. capital_diff\n",
    " The capital_gain and capital_loss features represent financial gains and losses. \n",
    "Combining these into a single feature that reflects the net capital gain/loss can provide a more comprehensive view of an individual's financial status.\n",
    "\n",
    "2. work_hours_per_week_category\n",
    "The hours_per_week feature indicates the number of hours worked per week. \n",
    "Categorizing this into bins (e.g., part-time, full-time, overtime) can capture different work patterns and their potential impact on income."
   ]
  },
  {
   "cell_type": "markdown",
   "id": "216e9c3e",
   "metadata": {},
   "source": [
    "# Apply a transformation (e.g., log transformation) to at least one skewed numerical feature and justify your choice."
   ]
  },
  {
   "cell_type": "code",
   "execution_count": 18,
   "id": "f2208e46",
   "metadata": {},
   "outputs": [
    {
     "name": "stdout",
     "output_type": "stream",
     "text": [
      "Skewness of numerical features:\n",
      " capital_gain      11.953848\n",
      "capital_loss       4.594629\n",
      "fnlwgt             1.446980\n",
      "age                0.558743\n",
      "hours_per_week     0.227643\n",
      "education_num     -0.311676\n",
      "dtype: float64\n"
     ]
    }
   ],
   "source": [
    "numerical_features = ['age', 'fnlwgt', 'education_num', 'capital_gain', 'capital_loss', 'hours_per_week']\n",
    "skewed_features = df[numerical_features].skew().sort_values(ascending=False)\n",
    "print(\"Skewness of numerical features:\\n\", skewed_features)\n"
   ]
  },
  {
   "cell_type": "code",
   "execution_count": 19,
   "id": "94139440",
   "metadata": {},
   "outputs": [
    {
     "data": {
      "image/png": "[encoded data removed]",
      "text/plain": [
       "<Figure size 864x432 with 2 Axes>"
      ]
     },
     "metadata": {
      "needs_background": "light"
     },
     "output_type": "display_data"
    },
    {
     "name": "stdout",
     "output_type": "stream",
     "text": [
      "Skewness of 'age' before transformation: 0.5587433694130484\n",
      "Skewness of 'age_log' after transformation: -0.11334149286035627\n"
     ]
    }
   ],
   "source": [
    "plt.figure(figsize=(12, 6))\n",
    "plt.subplot(1, 2, 1)\n",
    "sns.histplot(df['age'], bins=50, kde=True)\n",
    "plt.title('Distribution of age (Original)')\n",
    "df['age_log'] = df['age'].apply(lambda x: np.log1p(x)) \n",
    "plt.subplot(1, 2, 2)\n",
    "sns.histplot(df['age_log'], bins=50, kde=True)\n",
    "plt.title('Distribution of age(Log Transformed)')\n",
    "plt.tight_layout()\n",
    "plt.show()\n",
    "print(\"Skewness of 'age' before transformation:\", df['age'].skew())\n",
    "print(\"Skewness of 'age_log' after transformation:\", df['age_log'].skew())"
   ]
  },
  {
   "cell_type": "markdown",
   "id": "b43f4299",
   "metadata": {},
   "source": [
    "The age feature often has high skewness\n",
    "By applying a log transformation to age, we can reduce its skewness, improve the normality of the data, and potentially enhance the performance of our models."
   ]
  },
  {
   "cell_type": "markdown",
   "id": "c26f0ff9",
   "metadata": {},
   "source": [
    "# Feature Selection"
   ]
  },
  {
   "cell_type": "markdown",
   "id": "b9702c4c",
   "metadata": {},
   "source": [
    "# Use the Isolation Forest algorithm to identify and remove outliers. Discuss how outliers can affect model performance."
   ]
  },
  {
   "cell_type": "code",
   "execution_count": 20,
   "id": "e818b27a",
   "metadata": {},
   "outputs": [],
   "source": [
    "from sklearn.ensemble import IsolationForest\n",
    "numerical_features = ['age', 'fnlwgt', 'education_num', 'capital_gain', 'capital_loss', 'hours_per_week']\n",
    "iso_forest = IsolationForest(contamination=0.05, random_state=42)\n",
    "df['outlier'] = iso_forest.fit_predict(df[numerical_features])\n",
    "df_no_outliers = df[df['outlier'] == 1].copy()\n",
    "df_outliers = df[df['outlier'] == -1].copy()\n"
   ]
  },
  {
   "cell_type": "code",
   "execution_count": 21,
   "id": "927716c0",
   "metadata": {},
   "outputs": [
    {
     "data": {
      "image/png": "[encoded data removed]",
      "text/plain": [
       "<Figure size 1008x432 with 2 Axes>"
      ]
     },
     "metadata": {
      "needs_background": "light"
     },
     "output_type": "display_data"
    },
    {
     "name": "stdout",
     "output_type": "stream",
     "text": [
      "Original DataFrame shape: (32561, 19)\n",
      "DataFrame without outliers shape: (30933, 19)\n"
     ]
    }
   ],
   "source": [
    "fig, axes = plt.subplots(1, 2, figsize=(14, 6))\n",
    "sns.scatterplot(ax=axes[0], x='capital_gain', y='capital_loss', hue='outlier', data=df)\n",
    "axes[0].set_title('With Outliers')\n",
    "sns.scatterplot(ax=axes[1], x='capital_gain', y='capital_loss', data=df_no_outliers)\n",
    "axes[1].set_title('Without Outliers')\n",
    "\n",
    "plt.show()\n",
    "print(\"Original DataFrame shape:\", df.shape)\n",
    "print(\"DataFrame without outliers shape:\", df_no_outliers.shape)\n",
    "\n",
    "df_no_outliers.drop(columns=['outlier'], inplace=True)"
   ]
  },
  {
   "cell_type": "markdown",
   "id": "0867918f",
   "metadata": {},
   "source": [
    "Outliers can skew the distribution of the data, leading to biased statistical measures like mean and standard deviation.\n",
    "Removal of outliers can lead to more accurate and reliable models by focusing on the true patterns in the data."
   ]
  },
  {
   "cell_type": "markdown",
   "id": "847a0a4a",
   "metadata": {},
   "source": [
    "# Apply the PPS (Predictive Power Score) to find and discuss the relationships between features. Compare its findings with the correlation matrix."
   ]
  },
  {
   "cell_type": "code",
   "execution_count": 22,
   "id": "b022f6a1",
   "metadata": {
    "scrolled": true
   },
   "outputs": [
    {
     "name": "stdout",
     "output_type": "stream",
     "text": [
      "Requirement already satisfied: ppscore in c:\\users\\disha\\documents\\new folder\\lib\\site-packages (1.3.0)\n",
      "Requirement already satisfied: scikit-learn<2.0.0,>=0.20.2 in c:\\users\\disha\\documents\\new folder\\lib\\site-packages (from ppscore) (1.0.2)\n",
      "Requirement already satisfied: pandas<2.0.0,>=1.0.0 in c:\\users\\disha\\documents\\new folder\\lib\\site-packages (from ppscore) (1.4.2)\n",
      "Requirement already satisfied: python-dateutil>=2.8.1 in c:\\users\\disha\\documents\\new folder\\lib\\site-packages (from pandas<2.0.0,>=1.0.0->ppscore) (2.8.2)\n",
      "Requirement already satisfied: numpy>=1.18.5 in c:\\users\\disha\\documents\\new folder\\lib\\site-packages (from pandas<2.0.0,>=1.0.0->ppscore) (1.21.5)\n",
      "Requirement already satisfied: pytz>=2020.1 in c:\\users\\disha\\documents\\new folder\\lib\\site-packages (from pandas<2.0.0,>=1.0.0->ppscore) (2021.3)\n",
      "Requirement already satisfied: six>=1.5 in c:\\users\\disha\\documents\\new folder\\lib\\site-packages (from python-dateutil>=2.8.1->pandas<2.0.0,>=1.0.0->ppscore) (1.16.0)\n",
      "Requirement already satisfied: scipy>=1.1.0 in c:\\users\\disha\\documents\\new folder\\lib\\site-packages (from scikit-learn<2.0.0,>=0.20.2->ppscore) (1.7.3)\n",
      "Requirement already satisfied: threadpoolctl>=2.0.0 in c:\\users\\disha\\documents\\new folder\\lib\\site-packages (from scikit-learn<2.0.0,>=0.20.2->ppscore) (2.2.0)\n",
      "Requirement already satisfied: joblib>=0.11 in c:\\users\\disha\\documents\\new folder\\lib\\site-packages (from scikit-learn<2.0.0,>=0.20.2->ppscore) (1.1.0)\n"
     ]
    }
   ],
   "source": [
    "!pip install ppscore"
   ]
  },
  {
   "cell_type": "markdown",
   "id": "aa9668cf",
   "metadata": {},
   "source": [
    "# calculate the PPS matrix"
   ]
  },
  {
   "cell_type": "code",
   "execution_count": 23,
   "id": "76be9aa3",
   "metadata": {},
   "outputs": [
    {
     "ename": "NameError",
     "evalue": "name 'pps' is not defined",
     "output_type": "error",
     "traceback": [
      "\u001b[1;31m---------------------------------------------------------------------------\u001b[0m",
      "\u001b[1;31mNameError\u001b[0m                                 Traceback (most recent call last)",
      "Input \u001b[1;32mIn [23]\u001b[0m, in \u001b[0;36m<cell line: 1>\u001b[1;34m()\u001b[0m\n\u001b[1;32m----> 1\u001b[0m pps_matrix \u001b[38;5;241m=\u001b[39m \u001b[43mpps\u001b[49m\u001b[38;5;241m.\u001b[39mmatrix(df)\n\u001b[0;32m      2\u001b[0m plt\u001b[38;5;241m.\u001b[39mfigure(figsize\u001b[38;5;241m=\u001b[39m(\u001b[38;5;241m14\u001b[39m, \u001b[38;5;241m8\u001b[39m))\n\u001b[0;32m      3\u001b[0m sns\u001b[38;5;241m.\u001b[39mheatmap(pps_matrix\u001b[38;5;241m.\u001b[39mpivot(index\u001b[38;5;241m=\u001b[39m\u001b[38;5;124m'\u001b[39m\u001b[38;5;124mx\u001b[39m\u001b[38;5;124m'\u001b[39m, columns\u001b[38;5;241m=\u001b[39m\u001b[38;5;124m'\u001b[39m\u001b[38;5;124my\u001b[39m\u001b[38;5;124m'\u001b[39m, values\u001b[38;5;241m=\u001b[39m\u001b[38;5;124m'\u001b[39m\u001b[38;5;124mppscore\u001b[39m\u001b[38;5;124m'\u001b[39m), annot\u001b[38;5;241m=\u001b[39m\u001b[38;5;28;01mTrue\u001b[39;00m, cmap\u001b[38;5;241m=\u001b[39m\u001b[38;5;124m'\u001b[39m\u001b[38;5;124mcoolwarm\u001b[39m\u001b[38;5;124m'\u001b[39m)\n",
      "\u001b[1;31mNameError\u001b[0m: name 'pps' is not defined"
     ]
    }
   ],
   "source": [
    "pps_matrix = pps.matrix(df)\n",
    "plt.figure(figsize=(14, 8))\n",
    "sns.heatmap(pps_matrix.pivot(index='x', columns='y', values='ppscore'), annot=True, cmap='coolwarm')\n",
    "plt.title('PPS Matrix')\n",
    "plt.show()\n",
    "\n"
   ]
  },
  {
   "cell_type": "markdown",
   "id": "71f166c4",
   "metadata": {},
   "source": [
    "# Calculate the correlation matrix"
   ]
  },
  {
   "cell_type": "code",
   "execution_count": null,
   "id": "f5e03a0b",
   "metadata": {},
   "outputs": [],
   "source": [
    "correlation_matrix = df.corr()\n",
    "plt.figure(figsize=(14, 8))\n",
    "sns.heatmap(correlation_matrix, annot=True, cmap='coolwarm', vmin=-1, vmax=1)\n",
    "plt.title('Correlation Matrix')\n",
    "plt.show()"
   ]
  },
  {
   "cell_type": "markdown",
   "id": "4e1dc048",
   "metadata": {},
   "source": [
    "The correlation matrix is effective in identifying linear relationships but fails to capture non-linear patterns\n",
    "PPS can identify both linear and non-linear relationships, providing a more comprehensive view of feature interactions."
   ]
  }
 ],
 "metadata": {
  "kernelspec": {
   "display_name": "Python 3 (ipykernel)",
   "language": "python",
   "name": "python3"
  },
  "language_info": {
   "codemirror_mode": {
    "name": "ipython",
    "version": 3
   },
   "file_extension": ".py",
   "mimetype": "text/x-python",
   "name": "python",
   "nbconvert_exporter": "python",
   "pygments_lexer": "ipython3",
   "version": "3.9.12"
  }
 },
 "nbformat": 4,
 "nbformat_minor": 5
}
