{
 "cells": [
  {
   "cell_type": "markdown",
   "id": "e1936a8f",
   "metadata": {},
   "source": [
    "# Prime Numbers"
   ]
  },
  {
   "cell_type": "code",
   "execution_count": 1,
   "id": "27739bb8",
   "metadata": {},
   "outputs": [
    {
     "name": "stdout",
     "output_type": "stream",
     "text": [
      "Enter a number to check if it is prime: 3\n",
      "3 is a prime number.\n"
     ]
    }
   ],
   "source": [
    "def is_prime(n):\n",
    "    if n <= 1:\n",
    "        return False\n",
    "    for i in range(2, int(n**0.5) + 1):\n",
    "        if n % i == 0:\n",
    "            return False\n",
    "    return True\n",
    "\n",
    "# Example usage\n",
    "number = int(input(\"Enter a number to check if it is prime: \"))\n",
    "if is_prime(number):\n",
    "    print(f\"{number} is a prime number.\")\n",
    "else:\n",
    "    print(f\"{number} is not a prime number.\")\n"
   ]
  },
  {
   "cell_type": "markdown",
   "id": "88d2871a",
   "metadata": {},
   "source": [
    "# Product of Random Numbers"
   ]
  },
  {
   "cell_type": "code",
   "execution_count": 2,
   "id": "429d206f",
   "metadata": {},
   "outputs": [
    {
     "name": "stdout",
     "output_type": "stream",
     "text": [
      "What is the product of 21 and 70?\n",
      "Enter your answer: 1470\n",
      "Correct!\n"
     ]
    }
   ],
   "source": [
    "import random\n",
    "\n",
    "def product_of_random_numbers():\n",
    "    num1 = random.randint(1, 100)\n",
    "    num2 = random.randint(1, 100)\n",
    "    product = num1 * num2\n",
    "\n",
    "    print(f\"What is the product of {num1} and {num2}?\")\n",
    "    user_input = int(input(\"Enter your answer: \"))\n",
    "\n",
    "    if user_input == product:\n",
    "        print(\"Correct!\")\n",
    "    else:\n",
    "        print(f\"Incorrect. The correct answer is {product}.\")\n",
    "\n",
    "# Run the program\n",
    "product_of_random_numbers()\n"
   ]
  },
  {
   "cell_type": "markdown",
   "id": "7c237171",
   "metadata": {},
   "source": [
    "# Squares of Even/Odd Numbers"
   ]
  },
  {
   "cell_type": "code",
   "execution_count": 3,
   "id": "6c60398e",
   "metadata": {},
   "outputs": [
    {
     "name": "stdout",
     "output_type": "stream",
     "text": [
      "The square of 100 is 10000\n",
      "The square of 102 is 10404\n",
      "The square of 104 is 10816\n",
      "The square of 106 is 11236\n",
      "The square of 108 is 11664\n",
      "The square of 110 is 12100\n",
      "The square of 112 is 12544\n",
      "The square of 114 is 12996\n",
      "The square of 116 is 13456\n",
      "The square of 118 is 13924\n",
      "The square of 120 is 14400\n",
      "The square of 122 is 14884\n",
      "The square of 124 is 15376\n",
      "The square of 126 is 15876\n",
      "The square of 128 is 16384\n",
      "The square of 130 is 16900\n",
      "The square of 132 is 17424\n",
      "The square of 134 is 17956\n",
      "The square of 136 is 18496\n",
      "The square of 138 is 19044\n",
      "The square of 140 is 19600\n",
      "The square of 142 is 20164\n",
      "The square of 144 is 20736\n",
      "The square of 146 is 21316\n",
      "The square of 148 is 21904\n",
      "The square of 150 is 22500\n",
      "The square of 152 is 23104\n",
      "The square of 154 is 23716\n",
      "The square of 156 is 24336\n",
      "The square of 158 is 24964\n",
      "The square of 160 is 25600\n",
      "The square of 162 is 26244\n",
      "The square of 164 is 26896\n",
      "The square of 166 is 27556\n",
      "The square of 168 is 28224\n",
      "The square of 170 is 28900\n",
      "The square of 172 is 29584\n",
      "The square of 174 is 30276\n",
      "The square of 176 is 30976\n",
      "The square of 178 is 31684\n",
      "The square of 180 is 32400\n",
      "The square of 182 is 33124\n",
      "The square of 184 is 33856\n",
      "The square of 186 is 34596\n",
      "The square of 188 is 35344\n",
      "The square of 190 is 36100\n",
      "The square of 192 is 36864\n",
      "The square of 194 is 37636\n",
      "The square of 196 is 38416\n",
      "The square of 198 is 39204\n",
      "The square of 200 is 40000\n"
     ]
    }
   ],
   "source": [
    "def squares_of_even_numbers():\n",
    "    for number in range(100, 201):\n",
    "        if number % 2 == 0:\n",
    "            print(f\"The square of {number} is {number ** 2}\")\n",
    "\n",
    "# Uncomment the function call below to use even numbers\n",
    "squares_of_even_numbers()\n",
    "\n",
    "def squares_of_odd_numbers():\n",
    "    for number in range(100, 201):\n",
    "        if number % 2 != 0:\n",
    "            print(f\"The square of {number} is {number ** 2}\")\n",
    "\n",
    "# Uncomment the function call below to use odd numbers\n",
    "# squares_of_odd_numbers()\n"
   ]
  },
  {
   "cell_type": "markdown",
   "id": "72e940d4",
   "metadata": {},
   "source": [
    "# Word Counter"
   ]
  },
  {
   "cell_type": "code",
   "execution_count": 11,
   "id": "2178bf56",
   "metadata": {},
   "outputs": [
    {
     "name": "stdout",
     "output_type": "stream",
     "text": [
      "The number of words in the text is: 8\n"
     ]
    }
   ],
   "source": [
    "def count_words(text):\n",
    "    words = text.split()\n",
    "    word_count = len(words)\n",
    "    return word_count\n",
    "text = \"This is an example text with several words.\"\n",
    "print(f\"The number of words in the text is: {count_words(text)}\")\n"
   ]
  },
  {
   "cell_type": "markdown",
   "id": "bd5195c1",
   "metadata": {},
   "source": [
    "# Check for Palindrome"
   ]
  },
  {
   "cell_type": "code",
   "execution_count": 10,
   "id": "2cb2f8bd",
   "metadata": {},
   "outputs": [
    {
     "name": "stdout",
     "output_type": "stream",
     "text": [
      "Is the input 'Was it a car or a cat I saw?' a palindrome? :True\n"
     ]
    }
   ],
   "source": [
    "import string\n",
    "\n",
    "def is_palindrome(s):\n",
    "    filtered_str = ''.join(filter(str.isalnum, s)).lower()\n",
    "    return filtered_str == filtered_str[::-1]\n",
    "input_str = \"Was it a car or a cat I saw?\"\n",
    "result = is_palindrome(input_str)\n",
    "print(f\"Is the input '{input_str}' a palindrome? :{result}\")\n"
   ]
  },
  {
   "cell_type": "code",
   "execution_count": null,
   "id": "32542433",
   "metadata": {},
   "outputs": [],
   "source": []
  }
 ],
 "metadata": {
  "kernelspec": {
   "display_name": "Python 3 (ipykernel)",
   "language": "python",
   "name": "python3"
  },
  "language_info": {
   "codemirror_mode": {
    "name": "ipython",
    "version": 3
   },
   "file_extension": ".py",
   "mimetype": "text/x-python",
   "name": "python",
   "nbconvert_exporter": "python",
   "pygments_lexer": "ipython3",
   "version": "3.9.12"
  }
 },
 "nbformat": 4,
 "nbformat_minor": 5
}
